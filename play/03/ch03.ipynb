{
 "cells": [
  {
   "cell_type": "code",
   "execution_count": 6,
   "metadata": {},
   "outputs": [
    {
     "name": "stdout",
     "output_type": "stream",
     "text": [
      "name,data,shares,price\n",
      "\"AA\",\"2007-06-11\",100,32.20\n",
      "\"IBM\",2007-05-13\",50,91.10\n",
      "\"CAT\",\"2006-09-23\",150,83.44\n",
      "\"MSFT\",\"2007-05-17\",200,51.23\n",
      "\"GE\",\"2006-02-01\",95,40.37\n",
      "\"MSFT\",\"2006-10-31\",50,65.10\n",
      "\"IBM\",\"2006-07-09\",100,70.44\n",
      "\n"
     ]
    }
   ],
   "source": [
    "f = open('Data/portfolio.csv', 'r')\n",
    "data = f.read()\n",
    "print(data)\n",
    "f.close()"
   ]
  },
  {
   "cell_type": "code",
   "execution_count": 5,
   "metadata": {},
   "outputs": [
    {
     "name": "stdout",
     "output_type": "stream",
     "text": [
      "name,data,shares,price\n",
      "\n",
      "\"AA\",\"2007-06-11\",100,32.20\n",
      "\n",
      "\"IBM\",2007-05-13\",50,91.10\n",
      "\n",
      "\"CAT\",\"2006-09-23\",150,83.44\n",
      "\n",
      "\"MSFT\",\"2007-05-17\",200,51.23\n",
      "\n",
      "\"GE\",\"2006-02-01\",95,40.37\n",
      "\n",
      "\"MSFT\",\"2006-10-31\",50,65.10\n",
      "\n",
      "\"IBM\",\"2006-07-09\",100,70.44\n",
      "\n"
     ]
    }
   ],
   "source": [
    "f = open('Data/portfolio.csv', 'r')\n",
    "for line in f:\n",
    "    print(line)\n",
    "f.close()"
   ]
  },
  {
   "cell_type": "code",
   "execution_count": 7,
   "metadata": {},
   "outputs": [
    {
     "name": "stdout",
     "output_type": "stream",
     "text": [
      "name,data,shares,price\n",
      "\"AA\",\"2007-06-11\",100,32.20\n",
      "\"IBM\",2007-05-13\",50,91.10\n",
      "\"CAT\",\"2006-09-23\",150,83.44\n",
      "\"MSFT\",\"2007-05-17\",200,51.23\n",
      "\"GE\",\"2006-02-01\",95,40.37\n",
      "\"MSFT\",\"2006-10-31\",50,65.10\n",
      "\"IBM\",\"2006-07-09\",100,70.44\n",
      "\n"
     ]
    }
   ],
   "source": [
    "with open('Data/portfolio.csv', 'r') as f:\n",
    "    data = f.read()\n",
    "    print(data)"
   ]
  },
  {
   "cell_type": "code",
   "execution_count": 8,
   "metadata": {},
   "outputs": [
    {
     "name": "stdout",
     "output_type": "stream",
     "text": [
      "name,data,shares,price\n",
      "\n",
      "\"AA\",\"2007-06-11\",100,32.20\n",
      "\n",
      "\"IBM\",2007-05-13\",50,91.10\n",
      "\n",
      "\"CAT\",\"2006-09-23\",150,83.44\n",
      "\n",
      "\"MSFT\",\"2007-05-17\",200,51.23\n",
      "\n",
      "\"GE\",\"2006-02-01\",95,40.37\n",
      "\n",
      "\"MSFT\",\"2006-10-31\",50,65.10\n",
      "\n",
      "\"IBM\",\"2006-07-09\",100,70.44\n",
      "\n"
     ]
    }
   ],
   "source": [
    "with open('Data/portfolio.csv', 'r') as f:\n",
    "    for line in f:\n",
    "        print(line)"
   ]
  },
  {
   "cell_type": "code",
   "execution_count": 1,
   "metadata": {},
   "outputs": [
    {
     "name": "stdout",
     "output_type": "stream",
     "text": [
      "h\n",
      "e\n",
      "d\n",
      "l\n",
      "hello\n",
      "lo wo\n",
      "hello\n",
      "world\n",
      "helloworld\n"
     ]
    }
   ],
   "source": [
    "a = 'hello world'\n",
    "b = \"hello world\"\n",
    "print(a[0])\n",
    "print(a[1])\n",
    "print(a[-1])\n",
    "print(a[-2])\n",
    "print(a[0:5])\n",
    "print(a[3:8])\n",
    "print(a[:5])\n",
    "print(a[-5:])\n",
    "\n",
    "c='hello'\n",
    "d='world'\n",
    "print(c+d)"
   ]
  },
  {
   "cell_type": "code",
   "execution_count": 12,
   "metadata": {},
   "outputs": [
    {
     "name": "stdout",
     "output_type": "stream",
     "text": [
      "29\n",
      "\"IBM\",\"2006-07-09\",100,70.44\n",
      "\n",
      "'\"IBM\",\"2006-07-09\",100,70.44\\n'\n",
      "IBM\n"
     ]
    }
   ],
   "source": [
    "# test with statement with two files\n",
    "with open('Data/portfolio.csv', 'r') as f1, open('Data/portfolio.csv', 'r') as f2:\n",
    "    data = f1.read()\n",
    "    for line in f2:\n",
    "        pass\n",
    "print(len(line))\n",
    "print(line)\n",
    "print(repr(line))\n",
    "print(line[1:4])"
   ]
  },
  {
   "cell_type": "code",
   "execution_count": 23,
   "metadata": {},
   "outputs": [
    {
     "name": "stdout",
     "output_type": "stream",
     "text": [
      "\"IBM\",\"2006-07-09\",100,70.44\n",
      "-IBM-,-2006-07-09-,100,70.44\n",
      "\"IBM\" 70.44\n",
      "['IBM', '2006-07-09', 100, 70.44]\n"
     ]
    }
   ],
   "source": [
    "with open('Data/portfolio.csv', 'r') as f:\n",
    "    for line in f:\n",
    "        pass\n",
    "# strip \\n\n",
    "line = line.strip()\n",
    "print(line)\n",
    "\n",
    "lineX = line.replace('\"', '-')\n",
    "print(lineX)\n",
    "\n",
    "parts = line.split(',')\n",
    "print(parts[0],parts[3])\n",
    "\n",
    "(parts[0], parts[1], parts[2], parts[3]) = (parts[0].strip('\"'), parts[1].strip('\"'), int(parts[2]), float(parts[3]))\n",
    "print(parts)"
   ]
  },
  {
   "cell_type": "code",
   "execution_count": 26,
   "metadata": {},
   "outputs": [
    {
     "name": "stdout",
     "output_type": "stream",
     "text": [
      "Total cost:  44671.15\n"
     ]
    }
   ],
   "source": [
    "total = 0.0\n",
    "with open('Data/portfolio.csv', 'r') as f:\n",
    "    headers = next(f) # skip the first line\n",
    "    for line in f:\n",
    "        line = line.strip() # remove leading+trailing whitespaces\n",
    "        parts = line.split(',')\n",
    "        parts[0] = parts[0].strip('\"')\n",
    "        parts[1] = parts[1].strip('\"')\n",
    "        parts[2] = int(parts[2])\n",
    "        parts[3] = float(parts[3])\n",
    "        total += parts[2] * parts[3]\n",
    "\n",
    "print('Total cost: ', total)"
   ]
  }
 ],
 "metadata": {
  "kernelspec": {
   "display_name": "Python 3",
   "language": "python",
   "name": "python3"
  },
  "language_info": {
   "codemirror_mode": {
    "name": "ipython",
    "version": 3
   },
   "file_extension": ".py",
   "mimetype": "text/x-python",
   "name": "python",
   "nbconvert_exporter": "python",
   "pygments_lexer": "ipython3",
   "version": "3.8.6"
  }
 },
 "nbformat": 4,
 "nbformat_minor": 4
}
