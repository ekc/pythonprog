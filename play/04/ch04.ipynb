{
 "cells": [
  {
   "cell_type": "code",
   "execution_count": 2,
   "metadata": {},
   "outputs": [
    {
     "name": "stdout",
     "output_type": "stream",
     "text": [
      "Total cost:  44671.15\n"
     ]
    }
   ],
   "source": [
    "# 3.3 Project using the CSV module to read data\n",
    "import csv\n",
    "\n",
    "total = 0.0\n",
    "with open('Data/portfolio2.csv', 'r') as f:\n",
    "    rows = csv.reader(f)\n",
    "    headers = next(rows) # skip the first line\n",
    "    for row in rows:\n",
    "        row[2] = int(row[2])\n",
    "        row[3] = float(row[3])\n",
    "        total += row[2] * row[3]\n",
    "\n",
    "print('Total cost: ', total)"
   ]
  },
  {
   "cell_type": "code",
   "execution_count": 4,
   "metadata": {},
   "outputs": [
    {
     "name": "stdout",
     "output_type": "stream",
     "text": [
      "Total cost:  44671.15\n",
      "Total cost:  39405.75\n"
     ]
    }
   ],
   "source": [
    "# 4.2 Project moving a script into a function\n",
    "import csv\n",
    "\n",
    "def portfolio_cost(filename):\n",
    "    '''\n",
    "    Computes total shares*price for a CSV file with name, date, shares, price data\n",
    "    '''\n",
    "\n",
    "    total = 0.0\n",
    "    with open(filename, 'r') as f:\n",
    "        rows = csv.reader(f)\n",
    "        headers = next(rows) # skip the first line\n",
    "        for row in rows:\n",
    "            row[2] = int(row[2])\n",
    "            row[3] = float(row[3])\n",
    "            total += row[2] * row[3]\n",
    "    return total\n",
    "\n",
    "print('Total cost: ', portfolio_cost('Data/portfolio.csv'))\n",
    "print('Total cost: ', portfolio_cost('Data/portfolio3.csv'))"
   ]
  },
  {
   "cell_type": "code",
   "execution_count": 17,
   "metadata": {},
   "outputs": [
    {
     "name": "stdout",
     "output_type": "stream",
     "text": [
      "Data\\portfolio.csv total cost: 44671.15\n",
      "Data\\portfolio2.csv total cost: 44671.15\n",
      "Data\\portfolio3.csv total cost: 39405.75\n"
     ]
    }
   ],
   "source": [
    "# 4.2 Project moving a script into a function\n",
    "# Using glob to generate a list of files\n",
    "import csv\n",
    "\n",
    "def portfolio_cost(filename):\n",
    "    '''\n",
    "    Computes total shares*price for a CSV file with name, date, shares, price data\n",
    "    '''\n",
    "\n",
    "    total = 0.0\n",
    "    with open(filename, 'r') as f:\n",
    "        rows = csv.reader(f)\n",
    "        headers = next(rows) # skip the first line\n",
    "        for row in rows:\n",
    "            row[2] = int(row[2])\n",
    "            row[3] = float(row[3])\n",
    "            total += row[2] * row[3]\n",
    "    return total\n",
    "\n",
    "import glob\n",
    "files = glob.glob('Data/portfolio*.csv')\n",
    "for file in files:\n",
    "    print(file, 'total cost:', portfolio_cost(file) )\n"
   ]
  }
 ],
 "metadata": {
  "kernelspec": {
   "display_name": "Python 3",
   "language": "python",
   "name": "python3"
  },
  "language_info": {
   "codemirror_mode": {
    "name": "ipython",
    "version": 3
   },
   "file_extension": ".py",
   "mimetype": "text/x-python",
   "name": "python",
   "nbconvert_exporter": "python",
   "pygments_lexer": "ipython3",
   "version": "3.8.6"
  }
 },
 "nbformat": 4,
 "nbformat_minor": 4
}
