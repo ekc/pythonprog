{
 "cells": [
  {
   "cell_type": "code",
   "execution_count": 2,
   "metadata": {},
   "outputs": [
    {
     "name": "stdout",
     "output_type": "stream",
     "text": [
      "Total cost:  44671.15\n"
     ]
    }
   ],
   "source": [
    "# 3.3 Project using the CSV module to read data\n",
    "import csv\n",
    "\n",
    "total = 0.0\n",
    "with open('Data/portfolio2.csv', 'r') as f:\n",
    "    rows = csv.reader(f)\n",
    "    headers = next(rows) # skip the first line\n",
    "    for row in rows:\n",
    "        row[2] = int(row[2])\n",
    "        row[3] = float(row[3])\n",
    "        total += row[2] * row[3]\n",
    "\n",
    "print('Total cost: ', total)"
   ]
  },
  {
   "cell_type": "code",
   "execution_count": 4,
   "metadata": {},
   "outputs": [
    {
     "name": "stdout",
     "output_type": "stream",
     "text": [
      "Total cost:  44671.15\n",
      "Total cost:  39405.75\n"
     ]
    }
   ],
   "source": [
    "# 4.2 Project moving a script into a function\n",
    "import csv\n",
    "\n",
    "def portfolio_cost(filename):\n",
    "    '''\n",
    "    Computes total shares*price for a CSV file with name, date, shares, price data\n",
    "    '''\n",
    "\n",
    "    total = 0.0\n",
    "    with open(filename, 'r') as f:\n",
    "        rows = csv.reader(f)\n",
    "        headers = next(rows) # skip the first line\n",
    "        for row in rows:\n",
    "            row[2] = int(row[2])\n",
    "            row[3] = float(row[3])\n",
    "            total += row[2] * row[3]\n",
    "    return total\n",
    "\n",
    "print('Total cost: ', portfolio_cost('Data/portfolio.csv'))\n",
    "print('Total cost: ', portfolio_cost('Data/portfolio3.csv'))"
   ]
  },
  {
   "cell_type": "code",
   "execution_count": 17,
   "metadata": {},
   "outputs": [
    {
     "name": "stdout",
     "output_type": "stream",
     "text": [
      "Data\\portfolio.csv total cost: 44671.15\n",
      "Data\\portfolio2.csv total cost: 44671.15\n",
      "Data\\portfolio3.csv total cost: 39405.75\n"
     ]
    }
   ],
   "source": [
    "# 4.2 Project moving a script into a function\n",
    "# Using glob to generate a list of files\n",
    "import csv\n",
    "\n",
    "def portfolio_cost(filename):\n",
    "    '''\n",
    "    Computes total shares*price for a CSV file with name, date, shares, price data\n",
    "    '''\n",
    "\n",
    "    total = 0.0\n",
    "    with open(filename, 'r') as f:\n",
    "        rows = csv.reader(f)\n",
    "        headers = next(rows) # skip the first line\n",
    "        for row in rows:\n",
    "            row[2] = int(row[2])\n",
    "            row[3] = float(row[3])\n",
    "            total += row[2] * row[3]\n",
    "    return total\n",
    "\n",
    "import glob\n",
    "files = glob.glob('Data/portfolio*.csv')\n",
    "for file in files:\n",
    "    print(file, 'total cost:', portfolio_cost(file) )\n"
   ]
  },
  {
   "cell_type": "code",
   "execution_count": 19,
   "metadata": {},
   "outputs": [
    {
     "name": "stdout",
     "output_type": "stream",
     "text": [
      "Bad row: ['CAT', '2006-09-23', '', '83.44']\n",
      "Reason: invalid literal for int() with base 10: ''\n",
      "Bad row: ['MSFT', '2006-10-31', 'N/A', '65.10']\n",
      "Reason: invalid literal for int() with base 10: 'N/A'\n",
      "Total cost:  28900.15\n"
     ]
    }
   ],
   "source": [
    "# 4.3 Handling bad data and exception handling\n",
    "import csv\n",
    "\n",
    "def portfolio_cost(filename):\n",
    "    '''\n",
    "    Computes total shares*price for a CSV file with name, date, shares, price data\n",
    "    '''\n",
    "\n",
    "    total = 0.0\n",
    "    with open(filename, 'r') as f:\n",
    "        rows = csv.reader(f)\n",
    "        headers = next(rows) # skip the first line\n",
    "        for row in rows:\n",
    "            try:\n",
    "                row[2] = int(row[2])\n",
    "                row[3] = float(row[3])\n",
    "            except ValueError as err:\n",
    "                print('Bad row:', row)\n",
    "                print('Reason:', err)\n",
    "                continue    # skip to the next row\n",
    "            total += row[2] * row[3]\n",
    "    return total\n",
    "\n",
    "print('Total cost: ', portfolio_cost('Data/missing.csv'))"
   ]
  },
  {
   "cell_type": "code",
   "execution_count": 20,
   "metadata": {},
   "outputs": [
    {
     "name": "stdout",
     "output_type": "stream",
     "text": [
      "Row: 3 bad row: ['CAT', '2006-09-23', '', '83.44']\n",
      "Reason: invalid literal for int() with base 10: ''\n",
      "Row: 6 bad row: ['MSFT', '2006-10-31', 'N/A', '65.10']\n",
      "Reason: invalid literal for int() with base 10: 'N/A'\n",
      "Total cost:  28900.15\n"
     ]
    }
   ],
   "source": [
    "# 4.3 Handling bad data and exception handling\n",
    "# Introduce a rowno to help track where the error is in the data\n",
    "import csv\n",
    "\n",
    "def portfolio_cost(filename):\n",
    "    '''\n",
    "    Computes total shares*price for a CSV file with name, date, shares, price data\n",
    "    '''\n",
    "\n",
    "    total = 0.0\n",
    "    with open(filename, 'r') as f:\n",
    "        rows = csv.reader(f)\n",
    "        headers = next(rows) # skip the first line\n",
    "        rowno = 0\n",
    "        for row in rows:\n",
    "            rowno += 1\n",
    "            try:\n",
    "                row[2] = int(row[2])\n",
    "                row[3] = float(row[3])\n",
    "            except ValueError as err:\n",
    "                print('Row:', rowno, 'bad row:', row)\n",
    "                print('Reason:', err)\n",
    "                continue    # skip to the next row\n",
    "            total += row[2] * row[3]\n",
    "    return total\n",
    "\n",
    "print('Total cost: ', portfolio_cost('Data/missing.csv'))"
   ]
  },
  {
   "cell_type": "code",
   "execution_count": 20,
   "metadata": {},
   "outputs": [
    {
     "name": "stdout",
     "output_type": "stream",
     "text": [
      "Row: 3 bad row: ['CAT', '2006-09-23', '', '83.44']\n",
      "Reason: invalid literal for int() with base 10: ''\n",
      "Row: 6 bad row: ['MSFT', '2006-10-31', 'N/A', '65.10']\n",
      "Reason: invalid literal for int() with base 10: 'N/A'\n",
      "Total cost:  28900.15\n"
     ]
    }
   ],
   "source": [
    "# 4.3 Handling bad data and exception handling\n",
    "# Introduce a rowno to help track where the error is in the data\n",
    "import csv\n",
    "\n",
    "def portfolio_cost(filename):\n",
    "    '''\n",
    "    Computes total shares*price for a CSV file with name, date, shares, price data\n",
    "    '''\n",
    "\n",
    "    total = 0.0\n",
    "    with open(filename, 'r') as f:\n",
    "        rows = csv.reader(f)\n",
    "        headers = next(rows) # skip the first line\n",
    "        rowno = 0\n",
    "        for row in rows:\n",
    "            rowno += 1\n",
    "            try:\n",
    "                row[2] = int(row[2])\n",
    "                row[3] = float(row[3])\n",
    "            except ValueError as err:\n",
    "                print('Row:', rowno, 'bad row:', row)\n",
    "                print('Reason:', err)\n",
    "                continue    # skip to the next row\n",
    "            total += row[2] * row[3]\n",
    "    return total\n",
    "\n",
    "print('Total cost: ', portfolio_cost('Data/missing.csv'))"
   ]
  },
  {
   "cell_type": "code",
   "execution_count": 26,
   "metadata": {},
   "outputs": [
    {
     "data": {
      "text/plain": [
       "[(1, 'Spring'), (2, 'Summer'), (3, 'Fall'), (4, 'Winter')]"
      ]
     },
     "execution_count": 26,
     "metadata": {},
     "output_type": "execute_result"
    }
   ],
   "source": [
    "# Play with enumerate\n",
    "seasons = ['Spring', 'Summer', 'Fall', 'Winter']\n",
    "enumerate(seasons)\n",
    "list(enumerate(seasons))\n",
    "list(enumerate(seasons, start=1))"
   ]
  },
  {
   "cell_type": "code",
   "execution_count": 29,
   "metadata": {},
   "outputs": [
    {
     "name": "stdout",
     "output_type": "stream",
     "text": [
      "Row: 3 bad row: ['CAT', '2006-09-23', '', '83.44']\n",
      "Reason: invalid literal for int() with base 10: ''\n",
      "Row: 6 bad row: ['MSFT', '2006-10-31', 'N/A', '65.10']\n",
      "Reason: invalid literal for int() with base 10: 'N/A'\n",
      "Total cost:  28900.15\n"
     ]
    }
   ],
   "source": [
    "# 4.3 Handling bad data and exception handling\n",
    "# Introduce enumerate as a counter in the for loop\n",
    "# to track where the error is in the data\n",
    "import csv\n",
    "\n",
    "def portfolio_cost(filename):\n",
    "    '''\n",
    "    Computes total shares*price for a CSV file with name, date, shares, price data\n",
    "    '''\n",
    "\n",
    "    total = 0.0\n",
    "    with open(filename, 'r') as f:\n",
    "        rows = csv.reader(f)\n",
    "        headers = next(rows) # skip the first line\n",
    "        for (rowno, row) in enumerate(rows, start=1):\n",
    "            try:\n",
    "                row[2] = int(row[2])\n",
    "                row[3] = float(row[3])\n",
    "            except ValueError as err:\n",
    "                print('Row:', rowno, 'bad row:', row)\n",
    "                print('Reason:', err)\n",
    "                continue    # skip to the next row\n",
    "            total += row[2] * row[3]\n",
    "    return total\n",
    "\n",
    "print('Total cost: ', portfolio_cost('Data/missing.csv'))"
   ]
  }
 ],
 "metadata": {
  "kernelspec": {
   "display_name": "Python 3",
   "language": "python",
   "name": "python3"
  },
  "language_info": {
   "codemirror_mode": {
    "name": "ipython",
    "version": 3
   },
   "file_extension": ".py",
   "mimetype": "text/x-python",
   "name": "python",
   "nbconvert_exporter": "python",
   "pygments_lexer": "ipython3",
   "version": "3.8.6"
  }
 },
 "nbformat": 4,
 "nbformat_minor": 4
}
