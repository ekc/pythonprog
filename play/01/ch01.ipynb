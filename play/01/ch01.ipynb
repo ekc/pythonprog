{
 "cells": [
  {
   "cell_type": "code",
   "execution_count": 1,
   "metadata": {},
   "outputs": [
    {
     "name": "stdout",
     "output_type": "stream",
     "text": [
      "Hello World\n",
      "0\n",
      "1\n",
      "2\n",
      "3\n",
      "4\n",
      "5\n",
      "6\n",
      "7\n",
      "8\n",
      "9\n"
     ]
    }
   ],
   "source": [
    "print('Hello World')\n",
    "for i in range(10):\n",
    "    print(i)"
   ]
  },
  {
   "cell_type": "code",
   "execution_count": 5,
   "metadata": {},
   "outputs": [
    {
     "name": "stdout",
     "output_type": "stream",
     "text": [
      "3 MIN\n",
      "10 MIN\n",
      "21 MIN\n"
     ]
    }
   ],
   "source": [
    "import urllib.request\n",
    "from xml.etree.ElementTree import XML\n",
    "u = urllib.request.urlopen('http://ctabustracker.com/bustime/map/getStopPredictions.jsp?stop=14787&route=22')\n",
    "data = u.read()\n",
    "doc = XML(data)\n",
    "for pt in doc.findall('.//pt'):\n",
    "    print(pt.text)\n"
   ]
  },
  {
   "cell_type": "code",
   "execution_count": 9,
   "metadata": {},
   "outputs": [
    {
     "name": "stdout",
     "output_type": "stream",
     "text": [
      "5 MIN\n",
      "28 MIN\n"
     ]
    }
   ],
   "source": [
    "import urllib.request\n",
    "from xml.etree.ElementTree import XML\n",
    "\n",
    "url = 'http://ctabustracker.com/bustime/map/getStopPredictions.jsp?stop=14787&route=22'\n",
    "with urllib.request.urlopen(url) as u:\n",
    "    data = u.read()\n",
    "    doc = XML(data)\n",
    "    for pt in doc.findall('.//pt'):\n",
    "        print(pt.text)"
   ]
  }
 ],
 "metadata": {
  "kernelspec": {
   "display_name": "Python 3",
   "language": "python",
   "name": "python3"
  },
  "language_info": {
   "codemirror_mode": {
    "name": "ipython",
    "version": 3
   },
   "file_extension": ".py",
   "mimetype": "text/x-python",
   "name": "python",
   "nbconvert_exporter": "python",
   "pygments_lexer": "ipython3",
   "version": "3.8.6"
  }
 },
 "nbformat": 4,
 "nbformat_minor": 4
}
