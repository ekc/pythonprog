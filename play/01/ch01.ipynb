{
 "cells": [
  {
   "cell_type": "code",
   "execution_count": 1,
   "metadata": {},
   "outputs": [
    {
     "name": "stdout",
     "output_type": "stream",
     "text": [
      "Hello World\n",
      "0\n",
      "1\n",
      "2\n",
      "3\n",
      "4\n",
      "5\n",
      "6\n",
      "7\n",
      "8\n",
      "9\n"
     ]
    }
   ],
   "source": [
    "print('Hello World')\n",
    "for i in range(10):\n",
    "    print(i)"
   ]
  },
  {
   "cell_type": "code",
   "execution_count": 5,
   "metadata": {},
   "outputs": [
    {
     "name": "stdout",
     "output_type": "stream",
     "text": [
      "3 MIN\n",
      "10 MIN\n",
      "21 MIN\n"
     ]
    }
   ],
   "source": [
    "import urllib.request\n",
    "from xml.etree.ElementTree import XML\n",
    "u = urllib.request.urlopen('http://ctabustracker.com/bustime/map/getStopPredictions.jsp?stop=14787&route=22')\n",
    "data = u.read()\n",
    "doc = XML(data)\n",
    "for pt in doc.findall('.//pt'):\n",
    "    print(pt.text)\n"
   ]
  },
  {
   "cell_type": "code",
   "execution_count": 9,
   "metadata": {},
   "outputs": [
    {
     "name": "stdout",
     "output_type": "stream",
     "text": [
      "5 MIN\n",
      "28 MIN\n"
     ]
    }
   ],
   "source": [
    "import urllib.request\n",
    "from xml.etree.ElementTree import XML\n",
    "\n",
    "url = 'http://ctabustracker.com/bustime/map/getStopPredictions.jsp?stop=14787&route=22'\n",
    "with urllib.request.urlopen(url) as u:\n",
    "    data = u.read()\n",
    "    doc = XML(data)\n",
    "    for pt in doc.findall('.//pt'):\n",
    "        print(pt.text)"
   ]
  },
  {
   "cell_type": "code",
   "execution_count": 1,
   "metadata": {},
   "outputs": [
    {
     "name": "stdout",
     "output_type": "stream",
     "text": [
      "Command options: ['c:\\\\dev\\\\git\\\\repos\\\\learn.python\\\\play\\\\venv\\\\lib\\\\site-packages\\\\ipykernel_launcher.py', '-f', 'C:\\\\Users\\\\EkCHOTECHAWANWONG\\\\AppData\\\\Roaming\\\\jupyter\\\\runtime\\\\kernel-600e9028-fe5b-4bd9-9ad6-5409f7e5c6a7.json']\n"
     ]
    },
    {
     "ename": "SystemExit",
     "evalue": "0",
     "output_type": "error",
     "traceback": [
      "An exception has occurred, use %tb to see the full traceback.\n",
      "\u001b[1;31mSystemExit\u001b[0m\u001b[1;31m:\u001b[0m 0\n"
     ]
    },
    {
     "name": "stderr",
     "output_type": "stream",
     "text": [
      "c:\\dev\\git\\repos\\learn.python\\play\\venv\\lib\\site-packages\\IPython\\core\\interactiveshell.py:3425: UserWarning: To exit: use 'exit', 'quit', or Ctrl-D.\n",
      "  warn(\"To exit: use 'exit', 'quit', or Ctrl-D.\", stacklevel=1)\n"
     ]
    }
   ],
   "source": [
    "import sys\n",
    "print('Command options:', sys.argv)\n",
    "raise SystemExit(0)\n",
    "import urllib.request\n",
    "from xml.etree.ElementTree import XML\n",
    "\n",
    "url = 'http://ctabustracker.com/bustime/map/getStopPredictions.jsp?stop=14787&route=22'\n",
    "with urllib.request.urlopen(url) as u:\n",
    "    data = u.read()\n",
    "    doc = XML(data)\n",
    "    for pt in doc.findall('.//pt'):\n",
    "        print(pt.text)"
   ]
  },
  {
   "cell_type": "code",
   "execution_count": 4,
   "metadata": {},
   "outputs": [
    {
     "name": "stdout",
     "output_type": "stream",
     "text": [
      "Writing ex5.py\n"
     ]
    }
   ],
   "source": [
    "%%file ex5.py\n",
    "\n",
    "from sys import argv\n",
    "script, first, second, third = argv\n",
    "\n",
    "print(\"The script is called:\", script)\n",
    "print(\"Your first variable is:\", first)\n",
    "print(\"Your second variable is:\", second)\n",
    "print(\"Your third variable is:\", third)"
   ]
  },
  {
   "cell_type": "code",
   "execution_count": 5,
   "metadata": {},
   "outputs": [
    {
     "name": "stdout",
     "output_type": "stream",
     "text": [
      "The script is called: ex5.py\n",
      "Your first variable is: first\n",
      "Your second variable is: 2nd\n",
      "Your third variable is: 3rd\n"
     ]
    }
   ],
   "source": [
    "%run ex5 first 2nd 3rd"
   ]
  },
  {
   "cell_type": "code",
   "execution_count": 1,
   "metadata": {},
   "outputs": [
    {
     "name": "stdout",
     "output_type": "stream",
     "text": [
      "Writing nextbus.py\n"
     ]
    }
   ],
   "source": [
    "%%writefile nextbus.py\n",
    "\n",
    "import sys\n",
    "if len(sys.argv) != 3:\n",
    "    raise SystemExit(\"Usage: sys.argv[0] routeid stopid\")\n",
    "\n",
    "print(sys.argv)\n",
    "import urllib.request\n",
    "from xml.etree.ElementTree import XML\n",
    "\n",
    "script, routeid, stopid = sys.argv\n",
    "\n",
    "url = 'http://ctabustracker.com/bustime/map/getStopPredictions.jsp?route={}&stop={}'.format(routeid, stopid)\n",
    "print(\"url = {}\".format(url))\n",
    "with urllib.request.urlopen(url) as u:\n",
    "    data = u.read()\n",
    "    doc = XML(data)\n",
    "    for pt in doc.findall('.//pt'):\n",
    "        print(pt.text)"
   ]
  },
  {
   "cell_type": "code",
   "execution_count": 3,
   "metadata": {},
   "outputs": [
    {
     "name": "stdout",
     "output_type": "stream",
     "text": [
      "['nextbus.py', '22', '14787']\n",
      "url = http://ctabustracker.com/bustime/map/getStopPredictions.jsp?route=22&stop=14787\n"
     ]
    }
   ],
   "source": [
    "%run nextbus 22 14787"
   ]
  }
 ],
 "metadata": {
  "kernelspec": {
   "display_name": "Python 3",
   "language": "python",
   "name": "python3"
  },
  "language_info": {
   "codemirror_mode": {
    "name": "ipython",
    "version": 3
   },
   "file_extension": ".py",
   "mimetype": "text/x-python",
   "name": "python",
   "nbconvert_exporter": "python",
   "pygments_lexer": "ipython3",
   "version": "3.8.6"
  }
 },
 "nbformat": 4,
 "nbformat_minor": 4
}
