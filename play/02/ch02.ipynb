{
 "cells": [
  {
   "cell_type": "code",
   "execution_count": 1,
   "metadata": {},
   "outputs": [
    {
     "name": "stdout",
     "output_type": "stream",
     "text": [
      "Total paid:  1123692.0686024518\n",
      "month:  57\n"
     ]
    }
   ],
   "source": [
    "# mortgage.py\n",
    "#\n",
    "# Find out how long to pay off a mortgage\n",
    "\n",
    "# Basic mortgage parameters\n",
    "principal = 1000000\n",
    "payment = 20000\n",
    "rate = 0.05\n",
    "\n",
    "# Working variables\n",
    "total_paid = 0\n",
    "month = 0\n",
    "\n",
    "while principal > 0:\n",
    "    month += 1\n",
    "    interest = principal * rate / 12\n",
    "    # last month principal + interest will be higher than payment\n",
    "    # So, adjust the last payment to only pay what you owe\n",
    "    if principal + interest < payment:\n",
    "        payment = principal + interest\n",
    "    principal = principal + interest - payment\n",
    "    total_paid += payment\n",
    "    \n",
    "print('Total paid: ', total_paid)\n",
    "print('month: ', month)"
   ]
  },
  {
   "cell_type": "code",
   "execution_count": 3,
   "metadata": {},
   "outputs": [
    {
     "name": "stdout",
     "output_type": "stream",
     "text": [
      "Total paid:  1078872.1657324967\n",
      "month:  36\n"
     ]
    }
   ],
   "source": [
    "# mortgage.py\n",
    "#\n",
    "# Find out how long to pay off a mortgage\n",
    "# With added support for extra payment\n",
    "\n",
    "# Basic mortgage parameters\n",
    "principal = 1000000\n",
    "payment = 20000\n",
    "rate = 0.05\n",
    "\n",
    "# Extra payment info\n",
    "extra_payment = 10000\n",
    "extra_payment_start_month = 1\n",
    "extra_payment_end_month = 60\n",
    "\n",
    "# Working variables\n",
    "total_paid = 0\n",
    "month = 0\n",
    "\n",
    "while principal > 0:\n",
    "    month += 1\n",
    "    if month >= extra_payment_start_month and month <= extra_payment_end_month:\n",
    "        total_payment = payment + extra_payment\n",
    "    else:\n",
    "        total_payment = payment\n",
    "    interest = principal * rate / 12\n",
    "    # last month principal + interest will be higher than total_payment\n",
    "    # So, adjust the last payment to only pay what you owe\n",
    "    if principal + interest < total_payment:\n",
    "        total_payment = principal + interest\n",
    "    principal = principal + interest - total_payment\n",
    "    total_paid += total_payment\n",
    "    \n",
    "print('Total paid: ', total_paid)\n",
    "print('month: ', month)"
   ]
  }
 ],
 "metadata": {
  "kernelspec": {
   "display_name": "Python 3",
   "language": "python",
   "name": "python3"
  },
  "language_info": {
   "codemirror_mode": {
    "name": "ipython",
    "version": 3
   },
   "file_extension": ".py",
   "mimetype": "text/x-python",
   "name": "python",
   "nbconvert_exporter": "python",
   "pygments_lexer": "ipython3",
   "version": "3.8.6"
  }
 },
 "nbformat": 4,
 "nbformat_minor": 4
}
