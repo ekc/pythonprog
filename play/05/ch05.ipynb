{
 "cells": [
  {
   "cell_type": "markdown",
   "metadata": {},
   "source": [
    "## 5.1 Basic Materials: tuples, lists, sets and dicts\n",
    "### tuples is immutable\n",
    "Given a tuple t is defined as\n",
    "```python\n",
    "t = ('AA', '2011-06-07', 100, 32.2)\n",
    "```\n",
    "An assignment to an element within a tuple will raise a TypeError such as\n",
    "```python\n",
    "t[2] = 50 # raise a TypeError: 'tuple' does not support item assignment\n",
    "```"
   ]
  },
  {
   "cell_type": "code",
   "execution_count": 8,
   "metadata": {},
   "outputs": [
    {
     "name": "stdout",
     "output_type": "stream",
     "text": [
      "4\n",
      "AA 2011-06-07 3220.0000000000005\n",
      "AA 2011-06-07 100 32.2\n",
      "100\n"
     ]
    },
    {
     "ename": "TypeError",
     "evalue": "'tuple' object does not support item assignment",
     "output_type": "error",
     "traceback": [
      "\u001b[1;31m---------------------------------------------------------------------------\u001b[0m",
      "\u001b[1;31mTypeError\u001b[0m                                 Traceback (most recent call last)",
      "\u001b[1;32m<ipython-input-8-919825c39140>\u001b[0m in \u001b[0;36m<module>\u001b[1;34m\u001b[0m\n\u001b[0;32m      9\u001b[0m \u001b[0mprint\u001b[0m\u001b[1;33m(\u001b[0m\u001b[0mt\u001b[0m\u001b[1;33m[\u001b[0m\u001b[1;36m2\u001b[0m\u001b[1;33m]\u001b[0m\u001b[1;33m)\u001b[0m\u001b[1;33m\u001b[0m\u001b[1;33m\u001b[0m\u001b[0m\n\u001b[0;32m     10\u001b[0m \u001b[1;31m# Type Error: 'tuple' does not support item assignment\u001b[0m\u001b[1;33m\u001b[0m\u001b[1;33m\u001b[0m\u001b[1;33m\u001b[0m\u001b[0m\n\u001b[1;32m---> 11\u001b[1;33m \u001b[0mt\u001b[0m\u001b[1;33m[\u001b[0m\u001b[1;36m2\u001b[0m\u001b[1;33m]\u001b[0m \u001b[1;33m=\u001b[0m \u001b[1;36m50\u001b[0m\u001b[1;33m\u001b[0m\u001b[1;33m\u001b[0m\u001b[0m\n\u001b[0m",
      "\u001b[1;31mTypeError\u001b[0m: 'tuple' object does not support item assignment"
     ]
    }
   ],
   "source": [
    "t = ('AA', '2011-06-07', 100, 32.2)\n",
    "print(len(t))\n",
    "print(t[0], t[1], t[2]*t[3])\n",
    "\n",
    "name, date, shares, price = t\n",
    "print(name, date, shares, price)\n",
    "\n",
    "# tuple is immutable\n",
    "print(t[2])\n",
    "# TypeError: 'tuple' does not support item assignment\n",
    "t[2] = 50"
   ]
  },
  {
   "cell_type": "code",
   "execution_count": 12,
   "metadata": {},
   "outputs": [
    {
     "name": "stdout",
     "output_type": "stream",
     "text": [
      "['IBM', 'FB', 'YHOO', 'AA', 'CAT', 'IBM']\n",
      "['IBM', 'FB', 'HPE', 'AA', 'CAT', 'IBM']\n",
      "[45, 13, 20, 17]\n"
     ]
    }
   ],
   "source": [
    "names = ['IBM', 'YHOO', 'AA', 'CAT']\n",
    "names.append('IBM')\n",
    "names.insert(1, 'FB')\n",
    "print(names)\n",
    "names[2] = 'HPE'\n",
    "print(names)\n",
    "\n",
    "nums = [45, 13, 20, 17]\n",
    "print(nums)\n"
   ]
  },
  {
   "cell_type": "markdown",
   "metadata": {},
   "source": [
    "### Set can be used to dedup redundant items in list\n",
    "We use curly brackets ('{}') to enclose items in set"
   ]
  },
  {
   "cell_type": "code",
   "execution_count": 18,
   "metadata": {},
   "outputs": [
    {
     "name": "stdout",
     "output_type": "stream",
     "text": [
      "{'IBM', 'AA', 'YHOO', 'MSFT', 'CAT'}\n",
      "['IBM', 'FB', 'HPE', 'AA', 'CAT', 'IBM']\n",
      "{'FB', 'IBM', 'HPE', 'AA', 'CAT'}\n",
      "True\n",
      "True\n"
     ]
    }
   ],
   "source": [
    "distinct_names = {'YHOO', 'IBM', 'MSFT', 'IBM', 'YHOO', 'AA', 'CAT', 'IBM'}\n",
    "print(distinct_names)\n",
    "\n",
    "# We can use set to dedup names\n",
    "print(names)\n",
    "print(set(names))\n",
    "\n",
    "print('AA' in names)\n",
    "print('AA' in set(names))"
   ]
  },
  {
   "cell_type": "code",
   "execution_count": 22,
   "metadata": {},
   "outputs": [
    {
     "name": "stdout",
     "output_type": "stream",
     "text": [
      "91.2 32.4\n",
      "{'IBM': 87.23, 'MSFT': 45.23, 'AA': 32.4, 'YHOO': 9.23}\n",
      "True False\n"
     ]
    }
   ],
   "source": [
    "prices = {\n",
    "    'IBM': 91.2,\n",
    "    'MSFT': 45.23,\n",
    "    'AA': 32.4,\n",
    "    'YHOO': 9.23\n",
    "}\n",
    "print(prices['IBM'], prices['AA'])\n",
    "\n",
    "prices['IBM'] = 87.23\n",
    "print(prices)\n",
    "print('IBM' in prices, 87.23 in prices)"
   ]
  }
 ],
 "metadata": {
  "kernelspec": {
   "display_name": "Python 3",
   "language": "python",
   "name": "python3"
  },
  "language_info": {
   "codemirror_mode": {
    "name": "ipython",
    "version": 3
   },
   "file_extension": ".py",
   "mimetype": "text/x-python",
   "name": "python",
   "nbconvert_exporter": "python",
   "pygments_lexer": "ipython3",
   "version": "3.8.6"
  }
 },
 "nbformat": 4,
 "nbformat_minor": 4
}
